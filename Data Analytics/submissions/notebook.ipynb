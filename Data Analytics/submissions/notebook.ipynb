{
 "cells": [
  {
   "cell_type": "code",
   "execution_count": 1,
   "metadata": {
    "cell_id": "00000-86cb0206-c852-415e-a10a-ab208fbbe55c",
    "deepnote_cell_type": "code",
    "deepnote_to_be_reexecuted": false,
    "execution_millis": 724,
    "execution_start": 1615019589921,
    "source_hash": "ba5fc3f1",
    "tags": []
   },
   "outputs": [],
   "source": [
    "# import in json file as list of dicts\n",
    "import json\n",
    "\n",
    "path = \"/work/contacts.json\"\n",
    "\n",
    "f = open(path)\n",
    "\n",
    "data = json.load(f,)"
   ]
  },
  {
   "cell_type": "code",
   "execution_count": 2,
   "metadata": {
    "cell_id": "00002-a7d2313e-e06b-40e5-ad85-223948c9ad7c",
    "deepnote_cell_type": "code",
    "deepnote_to_be_reexecuted": false,
    "execution_millis": 69,
    "execution_start": 1615019590701,
    "output_cleared": true,
    "source_hash": "7e477f5b",
    "tags": []
   },
   "outputs": [],
   "source": [
    "# creat graph for dfs by including visted property\n",
    "graph = data.copy()\n",
    "for tix in graph: \n",
    "    tix[\"visited\"] = False;"
   ]
  },
  {
   "cell_type": "code",
   "execution_count": 3,
   "metadata": {
    "cell_id": "00002-16069b2b-90e4-4ecd-bc0b-7237f45dfc97",
    "deepnote_cell_type": "code",
    "deepnote_to_be_reexecuted": false,
    "execution_millis": 1464,
    "execution_start": 1615019590930,
    "source_hash": "d2b6cfcf",
    "tags": []
   },
   "outputs": [],
   "source": [
    "# creat adj list for dfs\n",
    "# emails, phones, orders are all edges in the graph\n",
    "\n",
    "emails = {}\n",
    "phones = {}\n",
    "orders = {}\n",
    "\n",
    "for tix in data:\n",
    "  if tix['Email'] != '':\n",
    "    if not tix['Email'] in emails:\n",
    "      emails[tix['Email']] = []\n",
    "      emails[tix['Email']].append(tix)\n",
    "    else:\n",
    "      emails[tix['Email']].append(tix)\n",
    "  if tix['Phone'] != '':\n",
    "    if not tix['Phone'] in phones:\n",
    "      phones[tix['Phone']] = []\n",
    "      phones[tix['Phone']].append(tix)\n",
    "    else:\n",
    "      phones[tix['Phone']].append(tix)\n",
    "  if tix['OrderId'] != '':\n",
    "    if not tix['OrderId'] in orders:\n",
    "      orders[tix['OrderId']] = []\n",
    "      orders[tix['OrderId']].append(tix)\n",
    "    else:\n",
    "      orders[tix['OrderId']].append(tix)"
   ]
  },
  {
   "cell_type": "code",
   "execution_count": 4,
   "metadata": {
    "cell_id": "00003-5e6401f3-47e8-400b-b1da-9fa130aef2e4",
    "deepnote_cell_type": "code",
    "deepnote_to_be_reexecuted": false,
    "execution_millis": 2,
    "execution_start": 1615019592399,
    "source_hash": "843b9e7b",
    "tags": []
   },
   "outputs": [],
   "source": [
    "# standard depth-first search\n",
    "\n",
    "def dfs(tix, stack, group):\n",
    "    if tix[\"visited\"] == False: \n",
    "        group.append(tix)\n",
    "        tix[\"visited\"] = True;\n",
    "        if tix[\"Email\"] != '':\n",
    "            e = emails[tix[\"Email\"]]\n",
    "        else:\n",
    "            e = []\n",
    "        if tix[\"Phone\"] != '':\n",
    "            p = phones[tix[\"Phone\"]]\n",
    "        else:\n",
    "            p = []\n",
    "        if tix[\"OrderId\"] != '':\n",
    "            o = orders[tix[\"OrderId\"]]\n",
    "        else:\n",
    "            o = []\n",
    "        stack.extend(e)\n",
    "        stack.extend(p)\n",
    "        stack.extend(o)\n",
    "        while (stack):\n",
    "            dfs(stack.pop(), stack, group) \n",
    "    return group\n"
   ]
  },
  {
   "cell_type": "code",
   "execution_count": 5,
   "metadata": {
    "cell_id": "00004-bd8e7408-fe58-438d-bc6a-11fd9a1a62be",
    "deepnote_cell_type": "code",
    "deepnote_to_be_reexecuted": false,
    "execution_millis": 1889,
    "execution_start": 1615019592439,
    "is_code_hidden": false,
    "output_cleared": false,
    "source_hash": "fbc64fc9",
    "tags": []
   },
   "outputs": [],
   "source": [
    "#run the dfs\n",
    "groups = []\n",
    "for tix in graph: \n",
    "    groups.append(dfs(tix,[], []))\n",
    "\n",
    "# filter out all the empty groups\n",
    "valid = [group for group in groups if group != []]\n",
    "\n",
    "    "
   ]
  },
  {
   "cell_type": "code",
   "execution_count": 6,
   "metadata": {
    "cell_id": "00006-27a7738b-83d6-476a-8abe-c81c3ae6c14a",
    "deepnote_cell_type": "code",
    "deepnote_to_be_reexecuted": false,
    "execution_millis": 33,
    "execution_start": 1615019594352,
    "source_hash": "a8e70787",
    "tags": []
   },
   "outputs": [
    {
     "data": {
      "text/plain": [
       "500000"
      ]
     },
     "execution_count": 6,
     "metadata": {},
     "output_type": "execute_result"
    }
   ],
   "source": [
    "# validation, looking for sum = 500000\n",
    "sum = 0\n",
    "for g in valid:\n",
    "    sum += len(g)\n",
    "\n",
    "sum"
   ]
  },
  {
   "cell_type": "code",
   "execution_count": 32,
   "metadata": {
    "cell_id": "00007-14f1d827-3207-4aab-a300-a6881e15d467",
    "deepnote_cell_type": "code",
    "deepnote_to_be_reexecuted": false,
    "execution_millis": 994,
    "execution_start": 1615020796614,
    "source_hash": "b4f5740",
    "tags": []
   },
   "outputs": [],
   "source": [
    "# convert results into format \n",
    "\n",
    "results = []\n",
    "\n",
    "for v in valid:\n",
    "    contacts = 0\n",
    "    ids = []\n",
    "    for tix in v:\n",
    "        contacts += tix['Contacts']\n",
    "        ids.append(tix['Id'])\n",
    "    \n",
    "    ids.sort()\n",
    "    trace = \"\"\n",
    "    for n in ids:\n",
    "        trace = trace + str(n) + \"-\"\n",
    "\n",
    "    trace = trace[0:len(trace)-1]\n",
    "    trace += \", \" + str(contacts)\n",
    "\n",
    "    for t in v:\n",
    "        row = {}\n",
    "        row[\"ticket_id\"] = t['Id']\n",
    "        row[\"ticket_trace/contact\"] = trace\n",
    "        results.append(row)"
   ]
  },
  {
   "cell_type": "code",
   "execution_count": 33,
   "metadata": {
    "cell_id": "00008-1401bfc1-e040-4db8-9ecc-67ee2bd27ff7",
    "deepnote_cell_type": "code",
    "deepnote_to_be_reexecuted": false,
    "execution_millis": 134,
    "execution_start": 1615020801557,
    "source_hash": "53e2042d",
    "tags": []
   },
   "outputs": [
    {
     "data": {
      "text/plain": [
       "[{'ticket_id': 0, 'ticket_trace/contact': '0, 1'},\n",
       " {'ticket_id': 1,\n",
       "  'ticket_trace/contact': '1-2458-98519-115061-140081-165605-476346, 12'},\n",
       " {'ticket_id': 2, 'ticket_trace/contact': '2-159312-322639-348955, 4'},\n",
       " {'ticket_id': 3, 'ticket_trace/contact': '3, 0'},\n",
       " {'ticket_id': 4, 'ticket_trace/contact': '4, 2'},\n",
       " {'ticket_id': 5,\n",
       "  'ticket_trace/contact': '5-50-212533-215197-226720-383605-404324-458692-482810, 15'},\n",
       " {'ticket_id': 6, 'ticket_trace/contact': '6-38-32871-142067-236367, 13'},\n",
       " {'ticket_id': 7, 'ticket_trace/contact': '7, 1'},\n",
       " {'ticket_id': 8, 'ticket_trace/contact': '8-183160-406623, 5'},\n",
       " {'ticket_id': 9,\n",
       "  'ticket_trace/contact': '9-13-16708-33415-343161-417916-468927-484896, 8'}]"
      ]
     },
     "execution_count": 33,
     "metadata": {},
     "output_type": "execute_result"
    }
   ],
   "source": [
    "# sort results according to ticket_id\n",
    "\n",
    "results.sort(key = lambda x: x[\"ticket_id\"])\n",
    "results[0:10]"
   ]
  },
  {
   "cell_type": "code",
   "execution_count": 35,
   "metadata": {
    "cell_id": "00009-4efa3740-8f74-46ea-9d08-9f185c116aee",
    "deepnote_cell_type": "code",
    "deepnote_to_be_reexecuted": false,
    "execution_millis": 559,
    "execution_start": 1615020819232,
    "source_hash": "e11a9298",
    "tags": []
   },
   "outputs": [],
   "source": [
    "# convert to df\n",
    "\n",
    "import pandas as pd\n",
    "\n",
    "\n",
    "df = pd.DataFrame(results)\n"
   ]
  },
  {
   "cell_type": "code",
   "execution_count": 36,
   "metadata": {
    "cell_id": "00010-31376aa2-1e98-4c18-8e52-234ebd103612",
    "deepnote_cell_type": "code",
    "deepnote_to_be_reexecuted": false,
    "execution_millis": 18,
    "execution_start": 1615020841920,
    "source_hash": "b41d380c",
    "tags": []
   },
   "outputs": [
    {
     "data": {
      "application/vnd.deepnote.dataframe.v2+json": {
       "column_count": 2,
       "columns": [
        {
         "dtype": "int64",
         "name": "ticket_id",
         "stats": {
          "histogram": [
           {
            "bin_end": 0.9,
            "bin_start": 0,
            "count": 1
           },
           {
            "bin_end": 1.8,
            "bin_start": 0.9,
            "count": 1
           },
           {
            "bin_end": 2.7,
            "bin_start": 1.8,
            "count": 1
           },
           {
            "bin_end": 3.6,
            "bin_start": 2.7,
            "count": 1
           },
           {
            "bin_end": 4.5,
            "bin_start": 3.6,
            "count": 1
           },
           {
            "bin_end": 5.4,
            "bin_start": 4.5,
            "count": 1
           },
           {
            "bin_end": 6.3,
            "bin_start": 5.4,
            "count": 1
           },
           {
            "bin_end": 7.2,
            "bin_start": 6.3,
            "count": 1
           },
           {
            "bin_end": 8.1,
            "bin_start": 7.2,
            "count": 1
           },
           {
            "bin_end": 9,
            "bin_start": 8.1,
            "count": 1
           }
          ],
          "max": 9,
          "min": 0,
          "nan_count": 0,
          "unique_count": 10
         }
        },
        {
         "dtype": "object",
         "name": "ticket_trace/contact",
         "stats": {
          "categories": [
           {
            "count": 1,
            "name": "0, 1"
           },
           {
            "count": 1,
            "name": "1-2458-98519-115061-140081-165605-476346, 12"
           },
           {
            "count": 8,
            "name": "8 others"
           }
          ],
          "nan_count": 0,
          "unique_count": 10
         }
        },
        {
         "dtype": "int64",
         "name": "_deepnote_index_column"
        }
       ],
       "row_count": 10,
       "rows_bottom": null,
       "rows_top": [
        {
         "_deepnote_index_column": 0,
         "ticket_id": 0,
         "ticket_trace/contact": "0, 1"
        },
        {
         "_deepnote_index_column": 1,
         "ticket_id": 1,
         "ticket_trace/contact": "1-2458-98519-115061-140081-165605-476346, 12"
        },
        {
         "_deepnote_index_column": 2,
         "ticket_id": 2,
         "ticket_trace/contact": "2-159312-322639-348955, 4"
        },
        {
         "_deepnote_index_column": 3,
         "ticket_id": 3,
         "ticket_trace/contact": "3, 0"
        },
        {
         "_deepnote_index_column": 4,
         "ticket_id": 4,
         "ticket_trace/contact": "4, 2"
        },
        {
         "_deepnote_index_column": 5,
         "ticket_id": 5,
         "ticket_trace/contact": "5-50-212533-215197-226720-383605-404324-458692-482810, 15"
        },
        {
         "_deepnote_index_column": 6,
         "ticket_id": 6,
         "ticket_trace/contact": "6-38-32871-142067-236367, 13"
        },
        {
         "_deepnote_index_column": 7,
         "ticket_id": 7,
         "ticket_trace/contact": "7, 1"
        },
        {
         "_deepnote_index_column": 8,
         "ticket_id": 8,
         "ticket_trace/contact": "8-183160-406623, 5"
        },
        {
         "_deepnote_index_column": 9,
         "ticket_id": 9,
         "ticket_trace/contact": "9-13-16708-33415-343161-417916-468927-484896, 8"
        }
       ]
      },
      "text/html": [
       "<div>\n",
       "<style scoped>\n",
       "    .dataframe tbody tr th:only-of-type {\n",
       "        vertical-align: middle;\n",
       "    }\n",
       "\n",
       "    .dataframe tbody tr th {\n",
       "        vertical-align: top;\n",
       "    }\n",
       "\n",
       "    .dataframe thead th {\n",
       "        text-align: right;\n",
       "    }\n",
       "</style>\n",
       "<table border=\"1\" class=\"dataframe\">\n",
       "  <thead>\n",
       "    <tr style=\"text-align: right;\">\n",
       "      <th></th>\n",
       "      <th>ticket_id</th>\n",
       "      <th>ticket_trace/contact</th>\n",
       "    </tr>\n",
       "  </thead>\n",
       "  <tbody>\n",
       "    <tr>\n",
       "      <th>0</th>\n",
       "      <td>0</td>\n",
       "      <td>0, 1</td>\n",
       "    </tr>\n",
       "    <tr>\n",
       "      <th>1</th>\n",
       "      <td>1</td>\n",
       "      <td>1-2458-98519-115061-140081-165605-476346, 12</td>\n",
       "    </tr>\n",
       "    <tr>\n",
       "      <th>2</th>\n",
       "      <td>2</td>\n",
       "      <td>2-159312-322639-348955, 4</td>\n",
       "    </tr>\n",
       "    <tr>\n",
       "      <th>3</th>\n",
       "      <td>3</td>\n",
       "      <td>3, 0</td>\n",
       "    </tr>\n",
       "    <tr>\n",
       "      <th>4</th>\n",
       "      <td>4</td>\n",
       "      <td>4, 2</td>\n",
       "    </tr>\n",
       "    <tr>\n",
       "      <th>5</th>\n",
       "      <td>5</td>\n",
       "      <td>5-50-212533-215197-226720-383605-404324-458692...</td>\n",
       "    </tr>\n",
       "    <tr>\n",
       "      <th>6</th>\n",
       "      <td>6</td>\n",
       "      <td>6-38-32871-142067-236367, 13</td>\n",
       "    </tr>\n",
       "    <tr>\n",
       "      <th>7</th>\n",
       "      <td>7</td>\n",
       "      <td>7, 1</td>\n",
       "    </tr>\n",
       "    <tr>\n",
       "      <th>8</th>\n",
       "      <td>8</td>\n",
       "      <td>8-183160-406623, 5</td>\n",
       "    </tr>\n",
       "    <tr>\n",
       "      <th>9</th>\n",
       "      <td>9</td>\n",
       "      <td>9-13-16708-33415-343161-417916-468927-484896, 8</td>\n",
       "    </tr>\n",
       "  </tbody>\n",
       "</table>\n",
       "</div>"
      ],
      "text/plain": [
       "   ticket_id                               ticket_trace/contact\n",
       "0          0                                               0, 1\n",
       "1          1       1-2458-98519-115061-140081-165605-476346, 12\n",
       "2          2                          2-159312-322639-348955, 4\n",
       "3          3                                               3, 0\n",
       "4          4                                               4, 2\n",
       "5          5  5-50-212533-215197-226720-383605-404324-458692...\n",
       "6          6                       6-38-32871-142067-236367, 13\n",
       "7          7                                               7, 1\n",
       "8          8                                 8-183160-406623, 5\n",
       "9          9    9-13-16708-33415-343161-417916-468927-484896, 8"
      ]
     },
     "execution_count": 36,
     "metadata": {},
     "output_type": "execute_result"
    }
   ],
   "source": []
  },
  {
   "cell_type": "code",
   "execution_count": 38,
   "metadata": {
    "cell_id": "00011-60b3327d-95b5-43c1-947a-779f8decebe6",
    "deepnote_cell_type": "code",
    "deepnote_to_be_reexecuted": false,
    "execution_millis": 907,
    "execution_start": 1615020985610,
    "source_hash": "ebbaee16",
    "tags": []
   },
   "outputs": [],
   "source": [
    "# export as csv\n",
    "\n",
    "df.to_csv(\"result.csv\", index = False)"
   ]
  },
  {
   "cell_type": "markdown",
   "metadata": {
    "created_in_deepnote_cell": true,
    "deepnote_cell_type": "markdown",
    "tags": []
   },
   "source": [
    "<a style='text-decoration:none;line-height:16px;display:flex;color:#5B5B62;padding:10px;justify-content:end;' href='https://deepnote.com?utm_source=created-in-deepnote-cell&projectId=a0b7536e-0731-46c8-9089-c0f7d30a768e' target=\"_blank\">\n",
    "<img style='display:inline;max-height:16px;margin:0px;margin-right:7.5px;' src='data:image/svg+xml;base64,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' > </img>\n",
    "Created in <span style='font-weight:600;margin-left:4px;'>Deepnote</span></a>"
   ]
  }
 ],
 "metadata": {
  "deepnote": {},
  "deepnote_execution_queue": [],
  "deepnote_notebook_id": "bd040595-1974-4f20-a207-d987ef6b1d2c",
  "kernelspec": {
   "display_name": "Python 3",
   "language": "python",
   "name": "python3"
  },
  "language_info": {
   "codemirror_mode": {
    "name": "ipython",
    "version": 3
   },
   "file_extension": ".py",
   "mimetype": "text/x-python",
   "name": "python",
   "nbconvert_exporter": "python",
   "pygments_lexer": "ipython3",
   "version": "3.7.2"
  }
 },
 "nbformat": 4,
 "nbformat_minor": 2
}
